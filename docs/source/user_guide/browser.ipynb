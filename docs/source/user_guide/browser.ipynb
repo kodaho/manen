{
 "cells": [
  {
   "cell_type": "markdown",
   "id": "b6801fd3-4f26-49ce-bfa1-46d9d0990582",
   "metadata": {},
   "source": [
    "# An enhanced WebDriver: manen's `Browser`"
   ]
  },
  {
   "cell_type": "markdown",
   "id": "b0558d68",
   "metadata": {},
   "source": [
    "- new class that inherits from `WebDriver` which is quite comprehensive. Only here to add new methods that I think are missing.\n",
    "- new methods are for instanciation, exploring some DOMs and some utils methods"
   ]
  },
  {
   "cell_type": "markdown",
   "id": "73cd2829-137b-420d-8d99-5bbdf177f7b7",
   "metadata": {},
   "source": [
    "## Instanciating a browser"
   ]
  },
  {
   "cell_type": "markdown",
   "id": "2d85da35",
   "metadata": {},
   "source": [
    "Each browser class implemented in `manen` provides the same additional methods compared to a WebDriver. One of the method is `initialize` which allows to instanciate a new browser with some common options:\n",
    "\n",
    "- `proxy` that will be the proxies used in the browser for each request.\n",
    "- `headless` to launch the browser in headless mode (without graphical interface).\n",
    "- `driver_path` which is the path of the binary for the browser driver. Note that if no driver path is specified, `manen` will automatically get the driver compatible with the used browser (by using the method `{browser}.driver.get` which will download the driver file if needed)\n",
    "- `window_size` which will the dimensions in pixel of the created browser window."
   ]
  },
  {
   "cell_type": "code",
   "execution_count": 1,
   "id": "61726bca",
   "metadata": {},
   "outputs": [],
   "source": [
    "from manen.browser import ChromeBrowser\n",
    "browser = ChromeBrowser.initialize(proxy=None, headless=False)"
   ]
  },
  {
   "cell_type": "markdown",
   "id": "a3a82058",
   "metadata": {},
   "source": [
    "One of the feature offered by `manen`'s `Browser` is an interface for cookies. With a `selenium.WebDriver`, you will have to use the methods `get_cookies`, `add_cookie` and `delete_all_cookies`. With a `Browser`, you can interact with cookies through the properties `cookies`."
   ]
  },
  {
   "cell_type": "code",
   "execution_count": 16,
   "id": "81334fb7",
   "metadata": {},
   "outputs": [
    {
     "data": {
      "text/plain": [
       "[{'domain': 'httpbin.org',\n",
       "  'httpOnly': False,\n",
       "  'name': 'test',\n",
       "  'path': '/',\n",
       "  'secure': False,\n",
       "  'value': 'manen'}]"
      ]
     },
     "execution_count": 16,
     "metadata": {},
     "output_type": "execute_result"
    }
   ],
   "source": [
    "browser.get(\"https://httpbin.org/cookies/set/test/manen\")\n",
    "browser.cookies"
   ]
  },
  {
   "cell_type": "code",
   "execution_count": null,
   "id": "b51e09b5",
   "metadata": {},
   "outputs": [],
   "source": [
    "# browser.cookies = list_of_cookies_dict"
   ]
  },
  {
   "cell_type": "code",
   "execution_count": 18,
   "id": "a12ba7a7",
   "metadata": {},
   "outputs": [],
   "source": [
    "del browser.cookies"
   ]
  },
  {
   "cell_type": "code",
   "execution_count": 19,
   "id": "3bc27a9a",
   "metadata": {},
   "outputs": [
    {
     "data": {
      "text/plain": [
       "[]"
      ]
     },
     "execution_count": 19,
     "metadata": {},
     "output_type": "execute_result"
    }
   ],
   "source": [
    "browser.cookies"
   ]
  },
  {
   "cell_type": "markdown",
   "id": "7d52b41e-58b5-4700-8e26-e55d8517abe1",
   "metadata": {},
   "source": [
    "## Exploring the DOM (WIP)"
   ]
  },
  {
   "cell_type": "markdown",
   "id": "6c4e8ff7",
   "metadata": {},
   "source": [
    "### A new way to retrieve elements"
   ]
  },
  {
   "cell_type": "code",
   "execution_count": null,
   "id": "0b455fd1",
   "metadata": {},
   "outputs": [],
   "source": [
    "browser.find"
   ]
  },
  {
   "cell_type": "markdown",
   "id": "341c768c",
   "metadata": {},
   "source": [
    "### Modelling a page with Python objects"
   ]
  },
  {
   "cell_type": "code",
   "execution_count": null,
   "id": "030874e7",
   "metadata": {},
   "outputs": [],
   "source": []
  },
  {
   "cell_type": "code",
   "execution_count": 21,
   "id": "89eaa42e",
   "metadata": {},
   "outputs": [],
   "source": [
    "browser.quit()"
   ]
  }
 ],
 "metadata": {
  "kernelspec": {
   "display_name": "Python 3 (ipykernel)",
   "language": "python",
   "name": "python3"
  },
  "language_info": {
   "codemirror_mode": {
    "name": "ipython",
    "version": 3
   },
   "file_extension": ".py",
   "mimetype": "text/x-python",
   "name": "python",
   "nbconvert_exporter": "python",
   "pygments_lexer": "ipython3",
   "version": "3.8.10"
  }
 },
 "nbformat": 4,
 "nbformat_minor": 5
}
