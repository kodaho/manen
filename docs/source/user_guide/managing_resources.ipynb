{
 "cells": [
  {
   "cell_type": "markdown",
   "id": "2fb45dc8-5690-4499-be73-0f8998677db3",
   "metadata": {},
   "source": [
    "# Managing resources"
   ]
  },
  {
   "cell_type": "markdown",
   "id": "10bf4104-d2a3-4b2a-af8c-1921c99fa6c9",
   "metadata": {},
   "source": [
    "Controlling a web browser with Selenium requires several components:\n",
    "- a browser installed on the machine you are working on. This is the core application that will be controlled by Selenium.\n",
    "- a driver that will make the links between the installed application and the your code. The driver will allow Selenium to control the browser with commands you provide.\n",
    "\n",
    "A good management on these components is essential to ensure the stability of your application.  If it can be easy to handle all of that in a dev environment, handling all of that in production can be a little more tricky. `manen` provides you several functions and classes whose purpose is to provide simple interfaces to managing your browsers and drivers."
   ]
  },
  {
   "cell_type": "markdown",
   "id": "4b361669-f3c7-411a-91c4-606db22ea78b",
   "metadata": {},
   "source": [
    "## An API around your browsers and drivers\n",
    "\n",
    "Each browser has its own sub-package in `manen.resource` and each on them is providing two classes `application` and `driver` that we will explore.\n",
    "\n",
    "In the following example, we will work with Chrome."
   ]
  },
  {
   "cell_type": "code",
   "execution_count": 1,
   "id": "a1de2a32-12e2-4263-ad55-c01ad1acc507",
   "metadata": {},
   "outputs": [],
   "source": [
    "from manen.resource import chrome"
   ]
  },
  {
   "cell_type": "markdown",
   "id": "80976e3c-1234-407a-af71-d87fa2260521",
   "metadata": {},
   "source": [
    "First, let's check that it is correctly installed."
   ]
  },
  {
   "cell_type": "code",
   "execution_count": 2,
   "id": "d3c6876d-fff1-4560-9fd4-04d3582c55f4",
   "metadata": {},
   "outputs": [
    {
     "data": {
      "text/plain": [
       "True"
      ]
     },
     "execution_count": 2,
     "metadata": {},
     "output_type": "execute_result"
    }
   ],
   "source": [
    "chrome.application.is_installed()"
   ]
  },
  {
   "cell_type": "code",
   "execution_count": 3,
   "id": "6f85bf74-e716-4f15-9f56-c054a7d1c5f3",
   "metadata": {},
   "outputs": [
    {
     "data": {
      "text/plain": [
       "(97, 0, 4692, 71)"
      ]
     },
     "execution_count": 3,
     "metadata": {},
     "output_type": "execute_result"
    }
   ],
   "source": [
    "chrome.application.installed_version()"
   ]
  },
  {
   "cell_type": "markdown",
   "id": "9c5031ea-1f39-4937-80f3-086c3b4f8482",
   "metadata": {},
   "source": [
    "Let's list all the versions of Google Chrome available."
   ]
  },
  {
   "cell_type": "code",
   "execution_count": 4,
   "id": "540b90c3-acb6-400e-bb26-02a5e657313b",
   "metadata": {},
   "outputs": [
    {
     "data": {
      "text/plain": [
       "[{'version': (97, 0, 4692, 71),\n",
       "  'release_date': datetime.date(2022, 1, 4),\n",
       "  'os': 'mac',\n",
       "  'channel': 'stable'},\n",
       " {'version': (97, 0, 4692, 99),\n",
       "  'release_date': datetime.date(2022, 1, 19),\n",
       "  'os': 'mac',\n",
       "  'channel': 'stable'},\n",
       " {'version': (98, 0, 4758, 55),\n",
       "  'release_date': datetime.date(2022, 1, 12),\n",
       "  'os': 'mac',\n",
       "  'channel': 'beta'}]"
      ]
     },
     "execution_count": 4,
     "metadata": {},
     "output_type": "execute_result"
    }
   ],
   "source": [
    "chrome.application.list_versions()[:3]"
   ]
  },
  {
   "cell_type": "markdown",
   "id": "7571f92b-ee29-45a1-bac0-8aae6d1091f8",
   "metadata": {},
   "source": [
    "If needed, you can install by your own another version of Google Chrome.\n",
    "\n",
    "`manen` also provides the same interface for other browsers, like Brave."
   ]
  },
  {
   "cell_type": "code",
   "execution_count": 5,
   "id": "88128f4f-9c56-4984-84e6-08293cfece1a",
   "metadata": {},
   "outputs": [],
   "source": [
    "from manen.resource import brave"
   ]
  },
  {
   "cell_type": "code",
   "execution_count": 6,
   "id": "f312d5fe-e983-4600-a94d-3135e5121e24",
   "metadata": {},
   "outputs": [
    {
     "data": {
      "text/plain": [
       "(97, 1, 34, 80)"
      ]
     },
     "execution_count": 6,
     "metadata": {},
     "output_type": "execute_result"
    }
   ],
   "source": [
    "assert brave.application.is_installed()\n",
    "brave.application.installed_version()"
   ]
  },
  {
   "cell_type": "markdown",
   "id": "882eb00e-f4e9-4bf6-ad7b-e7f1ba024c37",
   "metadata": {},
   "source": [
    "All browser resource managers provided by `manen` have slightly the same interface.\n",
    "\n",
    "We checked for now that the first component needed to work with Selenium, the browser, is correctly installed on our machine.\n",
    "\n",
    "Let's check the second component which is the driver."
   ]
  },
  {
   "cell_type": "code",
   "execution_count": 7,
   "id": "ae7dc599-365d-4d91-87f2-7adba43e15ae",
   "metadata": {},
   "outputs": [
    {
     "data": {
      "text/plain": [
       "[{'version': (97, 0, 4692, 20),\n",
       "  'name': 'chromedriver_mac64.zip',\n",
       "  'updated_at': '2021-11-19T10:02:37.708Z',\n",
       "  'size': 8258658},\n",
       " {'version': (97, 0, 4692, 36),\n",
       "  'name': 'chromedriver_mac64.zip',\n",
       "  'updated_at': '2021-12-03T08:12:33.544Z',\n",
       "  'size': 8277983},\n",
       " {'version': (97, 0, 4692, 71),\n",
       "  'name': 'chromedriver_mac64.zip',\n",
       "  'updated_at': '2022-01-05T05:45:13.182Z',\n",
       "  'size': 8277283}]"
      ]
     },
     "execution_count": 7,
     "metadata": {},
     "output_type": "execute_result"
    }
   ],
   "source": [
    "[info for info in chrome.driver.list_versions() if info['version'][0] == 97]"
   ]
  },
  {
   "cell_type": "code",
   "execution_count": 8,
   "id": "3ec03bf0-5cfb-4b77-a3df-aaba16b884e7",
   "metadata": {},
   "outputs": [
    {
     "data": {
      "text/plain": [
       "(97, 0, 4692, 71)"
      ]
     },
     "execution_count": 8,
     "metadata": {},
     "output_type": "execute_result"
    }
   ],
   "source": [
    "latest_release = chrome.driver.latest_release()\n",
    "latest_release"
   ]
  },
  {
   "cell_type": "markdown",
   "id": "652c4d7b-7122-4069-a9db-2920dae3188d",
   "metadata": {},
   "source": [
    "The drivers resource manager provides you a method that will download the chromedriver, so you can use it when instanciating a WebDriver."
   ]
  },
  {
   "cell_type": "code",
   "execution_count": 9,
   "id": "04e7eb8f-8d52-444c-880c-51311e02fc9c",
   "metadata": {},
   "outputs": [
    {
     "data": {
      "text/plain": [
       "'/Users/kodjo/Documents/Projects/manen/manen/assets/drivers/darwin/chrome/97.0.4692.71/chromedriver'"
      ]
     },
     "execution_count": 9,
     "metadata": {},
     "output_type": "execute_result"
    }
   ],
   "source": [
    "chrome.driver.download(version=latest_release)"
   ]
  },
  {
   "cell_type": "markdown",
   "id": "6d4c7691-8906-45f3-9b43-6bb5705e80ea",
   "metadata": {},
   "source": [
    "Let's get the latest driver for the version 97 of Google Chrome."
   ]
  },
  {
   "cell_type": "code",
   "execution_count": 10,
   "id": "d0347459-d948-4074-9a08-419eb4ba2a09",
   "metadata": {},
   "outputs": [
    {
     "data": {
      "text/plain": [
       "'/Users/kodjo/Documents/Projects/manen/manen/assets/drivers/darwin/chrome/97.0.4692.71/chromedriver'"
      ]
     },
     "execution_count": 10,
     "metadata": {},
     "output_type": "execute_result"
    }
   ],
   "source": [
    "chrome.driver.get(query='97')"
   ]
  },
  {
   "cell_type": "markdown",
   "id": "9fd74653-8d7f-4083-a69e-07d56967adb4",
   "metadata": {},
   "source": [
    "## Using the CLI"
   ]
  },
  {
   "cell_type": "markdown",
   "id": "b28ac791-9646-4649-8b4e-623aced7133a",
   "metadata": {},
   "source": [
    "`manen` comes with a simple CLI that will allow you to handle all your resources."
   ]
  },
  {
   "cell_type": "markdown",
   "id": "ee2e6d4a-55c8-4773-b720-d758d2ffb29a",
   "metadata": {},
   "source": [
    "```shell\n",
    " 🌔 manen CLI\n",
    "\n",
    "usage: manen [-h] {download}\n",
    "\n",
    "positional arguments:\n",
    "  {download}\n",
    "\n",
    "optional arguments:\n",
    "  -h, --help  show this help message and exit\n",
    "```"
   ]
  },
  {
   "cell_type": "markdown",
   "id": "09815af9-bd0f-42a7-b849-17c3687b71cd",
   "metadata": {},
   "source": [
    "Let's download all the drivers we need."
   ]
  },
  {
   "cell_type": "markdown",
   "id": "d0218dcf-826b-4792-9f61-4563545eab63",
   "metadata": {},
   "source": [
    "```shell\n",
    "$ manen download\n",
    " 🌔 manen CLI\n",
    "\n",
    "» Starting interactive CLI to download webdrivers...\n",
    "? What is your OS? Mac OS\n",
    "? For which browser do you want to download the drivers? Chrome / Brave\n",
    "? Choose the version you want to download. (Use arrow keys to move, <space> to select, <a> to toggle, <i> to invert)\n",
    "   ○ 95.0.4638.17\n",
    "   ○ 95.0.4638.54\n",
    "   ○ 95.0.4638.69\n",
    "   ○ 96.0.4664.18\n",
    "   ○ 96.0.4664.35\n",
    "   ○ 96.0.4664.45\n",
    "   ● 97.0.4692.20 (compatible with Chrome)\n",
    "   ● 97.0.4692.36 (compatible with Chrome)\n",
    " » ● 97.0.4692.71 (compatible with Chrome)\n",
    "   ○ 98.0.4758.48\n",
    "```"
   ]
  },
  {
   "cell_type": "markdown",
   "id": "ac50b63e-c71c-4007-92c7-72a228d1336f",
   "metadata": {},
   "source": [
    "```shell\n",
    "$ manen download\n",
    " 🌔 manen CLI\n",
    "\n",
    "» Starting interactive CLI to download webdrivers...\n",
    "? What is your OS? Mac OS\n",
    "? For which browser do you want to download the drivers? Chrome / Brave\n",
    "? Choose the version you want to download. done (3 selections)\n",
    "📥 Dowloading version 97.0.4692.20 for the chrome browser on Darwin...\n",
    "✅ Driver file available at /Users/kodjo/Documents/Projects/manen/manen/assets/drivers/darwin/chrome/97.0.4692.20/chromedriver\n",
    "📥 Dowloading version 97.0.4692.36 for the chrome browser on Darwin...\n",
    "✅ Driver file available at /Users/kodjo/Documents/Projects/manen/manen/assets/drivers/darwin/chrome/97.0.4692.36/chromedriver\n",
    "📥 Dowloading version 97.0.4692.71 for the chrome browser on Darwin...\n",
    "✅ Driver file available at /Users/kodjo/Documents/Projects/manen/manen/assets/drivers/darwin/chrome/97.0.4692.71/chromedriver\n",
    "```"
   ]
  }
 ],
 "metadata": {
  "kernelspec": {
   "display_name": "Python 3 (ipykernel)",
   "language": "python",
   "name": "python3"
  },
  "language_info": {
   "codemirror_mode": {
    "name": "ipython",
    "version": 3
   },
   "file_extension": ".py",
   "mimetype": "text/x-python",
   "name": "python",
   "nbconvert_exporter": "python",
   "pygments_lexer": "ipython3",
   "version": "3.8.10"
  }
 },
 "nbformat": 4,
 "nbformat_minor": 5
}
