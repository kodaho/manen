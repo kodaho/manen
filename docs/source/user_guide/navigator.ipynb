{
 "cells": [
  {
   "cell_type": "markdown",
   "id": "b6801fd3-4f26-49ce-bfa1-46d9d0990582",
   "metadata": {},
   "source": [
    "# An enhanced WebDriver: manen's `Navigator`"
   ]
  },
  {
   "cell_type": "markdown",
   "id": "00bf60b7",
   "metadata": {},
   "source": []
  },
  {
   "cell_type": "markdown",
   "id": "73cd2829-137b-420d-8d99-5bbdf177f7b7",
   "metadata": {},
   "source": [
    "## Instanciating a navigator"
   ]
  },
  {
   "cell_type": "markdown",
   "id": "7d52b41e-58b5-4700-8e26-e55d8517abe1",
   "metadata": {},
   "source": [
    "## Exploring the DOM"
   ]
  }
 ],
 "metadata": {
  "kernelspec": {
   "display_name": "Python 3 (ipykernel)",
   "language": "python",
   "name": "python3"
  },
  "language_info": {
   "codemirror_mode": {
    "name": "ipython",
    "version": 3
   },
   "file_extension": ".py",
   "mimetype": "text/x-python",
   "name": "python",
   "nbconvert_exporter": "python",
   "pygments_lexer": "ipython3",
   "version": "3.8.10"
  }
 },
 "nbformat": 4,
 "nbformat_minor": 5
}
